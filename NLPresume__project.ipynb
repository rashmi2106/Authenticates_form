{
  "nbformat": 4,
  "nbformat_minor": 0,
  "metadata": {
    "colab": {
      "provenance": [],
      "authorship_tag": "ABX9TyPj7PWAUmje/lfQbgmB5ptS",
      "include_colab_link": true
    },
    "kernelspec": {
      "name": "python3",
      "display_name": "Python 3"
    },
    "language_info": {
      "name": "python"
    }
  },
  "cells": [
    {
      "cell_type": "markdown",
      "metadata": {
        "id": "view-in-github",
        "colab_type": "text"
      },
      "source": [
        "<a href=\"https://colab.research.google.com/github/rashmi2106/Authenticates_form/blob/main/NLPresume__project.ipynb\" target=\"_parent\"><img src=\"https://colab.research.google.com/assets/colab-badge.svg\" alt=\"Open In Colab\"/></a>"
      ]
    },
    {
      "cell_type": "code",
      "execution_count": 1,
      "metadata": {
        "colab": {
          "base_uri": "https://localhost:8080/"
        },
        "id": "MbSIiRMl7vNI",
        "outputId": "c9a14037-6196-4592-f2bd-9dc1919888d2"
      },
      "outputs": [
        {
          "output_type": "stream",
          "name": "stdout",
          "text": [
            "Looking in indexes: https://pypi.org/simple, https://us-python.pkg.dev/colab-wheels/public/simple/\n",
            "Collecting docx2txt\n",
            "  Downloading docx2txt-0.8.tar.gz (2.8 kB)\n",
            "  Preparing metadata (setup.py) ... \u001b[?25l\u001b[?25hdone\n",
            "Building wheels for collected packages: docx2txt\n",
            "  Building wheel for docx2txt (setup.py) ... \u001b[?25l\u001b[?25hdone\n",
            "  Created wheel for docx2txt: filename=docx2txt-0.8-py3-none-any.whl size=3977 sha256=eef4c695f34d6ee48f877b76a5546b092adde6c99518da7b656f1382abe58812\n",
            "  Stored in directory: /root/.cache/pip/wheels/22/58/cf/093d0a6c3ecfdfc5f6ddd5524043b88e59a9a199cb02352966\n",
            "Successfully built docx2txt\n",
            "Installing collected packages: docx2txt\n",
            "Successfully installed docx2txt-0.8\n"
          ]
        }
      ],
      "source": [
        "!pip install docx2txt"
      ]
    },
    {
      "cell_type": "code",
      "source": [
        "import docx2txt"
      ],
      "metadata": {
        "id": "73Yy6uqM8evJ"
      },
      "execution_count": 2,
      "outputs": []
    },
    {
      "cell_type": "code",
      "source": [
        "job_description=docx2txt.process('/content/python-job-description.docx')\n",
        "resume=docx2txt.process('/content/python-sample-resume.docx')"
      ],
      "metadata": {
        "id": "XVcODFBC8e9q"
      },
      "execution_count": 3,
      "outputs": []
    },
    {
      "cell_type": "code",
      "source": [
        "print(resume)"
      ],
      "metadata": {
        "colab": {
          "base_uri": "https://localhost:8080/"
        },
        "id": "p2lnCHIu9q69",
        "outputId": "bf77fa76-f23a-4317-ae44-021e399264fb"
      },
      "execution_count": 4,
      "outputs": [
        {
          "output_type": "stream",
          "name": "stdout",
          "text": [
            "Loren Brekke \n",
            "\n",
            "9873 Ignacio Corners Boston \n",
            "\n",
            "MA \n",
            "\n",
            "Phone +1 (555) 570 0033 \n",
            "\n",
            "\n",
            "\n",
            "Experience \n",
            "\n",
            "Houston, TX \n",
            "\n",
            "Python Applications Developer \n",
            "\n",
            "10/2015 – present \n",
            "\n",
            "\t\tHelp set development standards in areas of best practices, code quality, test coverage, monitoring, logging, exception management, and others\n",
            "\n",
            "\t\tBecome proficient in Python, and the Athena platform’s NoSql OO database, graph-oriented development model and developer toolset\n",
            "\n",
            "\t\tPerform unit testing and system integration testing of the newly developed functionality\n",
            "\n",
            "\t\tCreate technical design recommendations for developing and integrating programs per written specifications\n",
            "\n",
            "\t\tConduct code reviews on components and applications to ensure adherence to the development standards and best practices\n",
            "\n",
            "\t\tImprove SDLC\n",
            "\n",
            "\t\tIntegrate various systems to improve efficiency\n",
            "\n",
            "Los Angeles, CA \n",
            "\n",
            "Python Application Developer \n",
            "\n",
            "02/2013 – 08/2015 \n",
            "\n",
            "\t\tExecute change management activities supporting production deployment to Developers, Quality Control Analysts, and Environment Management personnel\n",
            "\n",
            "\t\tKnowledge of software development life cycle and agile development practices\n",
            "\n",
            "\t\tStrong knowledge of Spring frameworks and leveraging distributed data caching frameworks\n",
            "\n",
            "\t\tProvide guidance and oversight to development teams across Capital technology\n",
            "\n",
            "\t\tWorking with production support teams to ensure smooth transition of software developed\n",
            "\n",
            "\t\tDevelop code for intermediate to complex modules, following documentation and development standards\n",
            "\n",
            "\t\tWork with the development team to facilitate the Build effort and to ensure successful end-to-End integration / testing\n",
            "\n",
            "Chicago, IL \n",
            "\n",
            "Python \n",
            "\n",
            "12/2005 – 09/2012 \n",
            "\n",
            "\t\tWork with production support teams to ensure smooth transition of software developed\n",
            "\n",
            "\t\tWork in an environment which encourages and promotes personal development\n",
            "\n",
            "\t\tProvide design recommendations, developing and integrating programs per high level specifications\n",
            "\n",
            "\t\tLiaise with other teams and providers\n",
            "\n",
            "\t\tBe an active part of a larger internal open source community of developers at Hearst\n",
            "\n",
            "\t\tDeveloping a world-class, machine learning-driven recommendation and personalization system to match our users with jobs\n",
            "\n",
            "\t\tUnderstand the project scope, identify activities/ tasks, task level estimates, schedule, dependencies, risks and provide inputs to Module Lead for review\n",
            "\n",
            "Education \n",
            "\n",
            "Bachelor’s Degree in Computer Science \n",
            "\n",
            "Kent State University \n",
            "\n",
            "Skills \n",
            "\n",
            "\t\tFront-office/risk management business knowledge as well as Knowledge of financial instrument features and trade processing would be a definite \n",
            "\n",
            "\t\tStrong analytical ability \n",
            "\n",
            "\t\tAble to react quickly and perform well under stress and high demand \n",
            "\n",
            "\t\tWorking Excel knowledge including VBA, pivot tables, formulas \n",
            "\n",
            "\t\tProven strong experience with databases ( columnar, nosql and RDMS ) and good SQL skills \n",
            "\n",
            "\t\tWillingness to take ownership of tasks and the ability to work on their own initiative while being a strong team player \n",
            "\n",
            "\t\tExcellent verbal and written communication skills, able to communicate accurately, concisely and with tact and diplomacy when appropriate \n",
            "\n",
            "\t\tDevelop a good understanding of End to End business processes and the associated technical blocks \n",
            "\n",
            "\t\tEquities business knowledge is an advantage but other relevant experience in other business areas is welcomed \n",
            "\n",
            "\t\tThe ability to work under pressure within agreed timelines and to support multiple tasks in parallel\n"
          ]
        }
      ]
    },
    {
      "cell_type": "code",
      "source": [
        "content=[job_description, resume]"
      ],
      "metadata": {
        "id": "7UY3fa6p9rJy"
      },
      "execution_count": 5,
      "outputs": []
    },
    {
      "cell_type": "code",
      "source": [
        "from sklearn.feature_extraction.text import CountVectorizer\n",
        "cv=CountVectorizer()\n",
        "matrix=cv.fit_transform(content)"
      ],
      "metadata": {
        "id": "mDWtCRSzAb22"
      },
      "execution_count": 6,
      "outputs": []
    },
    {
      "cell_type": "code",
      "source": [
        "from sklearn.metrics.pairwise import cosine_similarity\n",
        "similarity_matrix=cosine_similarity(matrix)"
      ],
      "metadata": {
        "id": "D2oMFp_aAb8R"
      },
      "execution_count": 7,
      "outputs": []
    },
    {
      "cell_type": "code",
      "source": [
        "print(similarity_matrix)"
      ],
      "metadata": {
        "colab": {
          "base_uri": "https://localhost:8080/"
        },
        "id": "iTo1VFPNBvov",
        "outputId": "965473ce-a134-4add-9d5e-5026f4e0865e"
      },
      "execution_count": 8,
      "outputs": [
        {
          "output_type": "stream",
          "name": "stdout",
          "text": [
            "[[1.         0.63676947]\n",
            " [0.63676947 1.        ]]\n"
          ]
        }
      ]
    },
    {
      "cell_type": "code",
      "source": [
        "print('Resume matches by:'+str(similarity_matrix[1][0]))"
      ],
      "metadata": {
        "colab": {
          "base_uri": "https://localhost:8080/"
        },
        "id": "p5hvwnl-B3pL",
        "outputId": "6be85eb7-ff10-44ca-e721-89c164b54328"
      },
      "execution_count": 10,
      "outputs": [
        {
          "output_type": "stream",
          "name": "stdout",
          "text": [
            "Resume matches by:0.636769466846435\n"
          ]
        }
      ]
    },
    {
      "cell_type": "code",
      "source": [
        "print('Resume matches by:'+str(similarity_matrix[1][0]*100)+'%')"
      ],
      "metadata": {
        "colab": {
          "base_uri": "https://localhost:8080/"
        },
        "id": "NCEJX52dB3sk",
        "outputId": "2b46b932-c875-4c6e-854e-468dfa419abf"
      },
      "execution_count": 11,
      "outputs": [
        {
          "output_type": "stream",
          "name": "stdout",
          "text": [
            "Resume matches by:63.6769466846435%\n"
          ]
        }
      ]
    },
    {
      "cell_type": "code",
      "source": [],
      "metadata": {
        "id": "Pv8VJqP3CxUi"
      },
      "execution_count": null,
      "outputs": []
    },
    {
      "cell_type": "code",
      "source": [],
      "metadata": {
        "id": "qF_tdz4yCxYA"
      },
      "execution_count": null,
      "outputs": []
    }
  ]
}